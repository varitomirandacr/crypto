{
  "nbformat": 4,
  "nbformat_minor": 0,
  "metadata": {
    "colab": {
      "name": "solution-3.ipynb",
      "provenance": []
    },
    "kernelspec": {
      "name": "python3",
      "display_name": "Python 3"
    },
    "language_info": {
      "name": "python"
    }
  },
  "cells": [
    {
      "cell_type": "markdown",
      "source": [
        "# 3. Wiener's Attack Solution _(4 points)_"
      ],
      "metadata": {
        "id": "6TM5y5gAehP6"
      }
    },
    {
      "cell_type": "code",
      "execution_count": 20,
      "metadata": {
        "id": "phX_x_jqeXuj"
      },
      "outputs": [],
      "source": [
        "# Using the decimal module to be able to operate over large numbers\n",
        "from decimal import Decimal, getcontext"
      ]
    },
    {
      "cell_type": "code",
      "source": [
        "# Constant definitions\n",
        "N = 31572253668946223368340157100721987766746218463736824783505635131921053880398741320644875421329504217933416422336918416263408538952177986508994175591182768950207147336188432455124667514201867376909227788134941323555902495049233601287696456816385455907725032886562051454322468668214625612317109993078620529639774616518443677804391408891641903175536847686030211632523660782037213447088479131269565204282324663517421706048402910651099744974056786727812991192176997050739471403369421617160003772289048267809022469915924569385942569022178774225834165571053657200129401052764120020877313983409004932571630004656678491554033\n",
        "e = 7084215194443599160339614321138928983214362269664400507990258691986234567347379532809700232256805715669899435125455589766395600413533503573822989102823878826540036317848245491834763460693299412011619210827311587500311657621439893147815582844814748650942186449787061150827753958225319378164169085724521950445516816392443392835946057362175733538556192411994505858592612662805711714449145899544166354660465794567570468563034819166109105798194936416549149864412218709017864526810122862155857826601574302659442260666643066114221374852104428425503135373985569499838251381802559047735816838596220653454921257900296590700089"
      ],
      "metadata": {
        "id": "HSB8Xm_1fvqC"
      },
      "execution_count": 21,
      "outputs": []
    },
    {
      "cell_type": "code",
      "source": [
        "# Since the values of the constants \"N\" and \"e\" are very large, we have to increase the number of decimals to have a better precision of the number.\n",
        "getcontext().prec = 700"
      ],
      "metadata": {
        "id": "X8Vh7OtJgUGJ"
      },
      "execution_count": 22,
      "outputs": []
    },
    {
      "cell_type": "markdown",
      "source": [
        "Since we have the value of \"N\" and \"e\" values, we need to get the continued fractions expansion of the inital fraction $\\frac{e}{N}$. In order to get the coeficients of the continued fraction expansion, we must return the coeficients of the divisions  "
      ],
      "metadata": {
        "id": "BoCzCS-mtGHE"
      }
    },
    {
      "cell_type": "code",
      "source": [
        "# Function to get a list of coefficients of the continued fractions expansion\n",
        "def continued_fraction_expansion(numerator, denominator):\n",
        "    quotient = numerator // denominator\n",
        "    reminder = numerator % denominator\n",
        "    coeficients = [quotient]\n",
        "\n",
        "    while reminder != 0: # Avoid divison by zero\n",
        "        numerator, denominator = denominator, reminder\n",
        "        quotient = numerator // denominator\n",
        "        reminder = numerator % denominator\n",
        "        coeficients.append(quotient)\n",
        "\n",
        "    return coeficients"
      ],
      "metadata": {
        "id": "9Ng5bGBmhdNO"
      },
      "execution_count": 23,
      "outputs": []
    },
    {
      "cell_type": "markdown",
      "source": [
        "Then we have to get the convergents of the coeficients by applying the following formula: if we have the continued fraction $[a_0,a_1,a_2,a_3]$ then the formula to get the first four convergents are $\\frac{a_0}{1}, \\frac{a_1a_0 + 1}{a_1}, \\frac{a_2(a_1a_0 + 1) + a_0}{a_2a_1 + 1}, \\frac{a_3(a_2(a_1a_0 + 1) + a_0) + (a_1a_0 + 1)}{a_3(a_2a_1 + 1) + a_1}$. (This information have been taken from https://en.wikipedia.org/wiki/Continued_fraction)"
      ],
      "metadata": {
        "id": "o9miHVKut5_D"
      }
    },
    {
      "cell_type": "code",
      "source": [
        "# Function to get the numerators and denominators\n",
        "# We can get the convergents of the continued fractions by using the next form\n",
        "def convergents_continued_fractions(continued_fractions_quotients):\n",
        "    numerators = []\n",
        "    denominators = []\n",
        "\n",
        "    # Formula to get the numerator and denominator for the first coeficient\n",
        "    numerators.append(continued_fractions_quotients[0])\n",
        "    denominators.append(1)\n",
        "\n",
        "    # Formula to get the numerator and denominator for the second coeficient\n",
        "    numerators.append(continued_fractions_quotients[1]*continued_fractions_quotients[0] + 1)\n",
        "    denominators.append(continued_fractions_quotients[1])\n",
        "\n",
        "    # We start the loop from the third coeficient since the first 2 were already evaluated\n",
        "    for i in range(2, len(continued_fractions_quotients)):\n",
        "        numerator_i = continued_fractions_quotients[i]*numerators[i-1] + numerators[i-2]\n",
        "        denominator_i = continued_fractions_quotients[i]*denominators[i-1] + denominators[i-2]\n",
        "\n",
        "        numerators.append(numerator_i)\n",
        "        denominators.append(denominator_i)\n",
        "        yield (numerator_i, denominator_i)"
      ],
      "metadata": {
        "id": "UZp-d71Th6zL"
      },
      "execution_count": 24,
      "outputs": []
    },
    {
      "cell_type": "markdown",
      "source": [
        "In order to obtain the correct value of \"d\", we have to execute multiple steps which I describe below:\n",
        "- First we need to get the convergents of the continued fractions $\\frac{e}{N}$.\n",
        "- From the convergents values obtained in the previous, the denominators would be the possible values for \"d\".\n",
        "- We would iterate over all possible value \"d\" in order to validate if it is the correct one. In order to do so we will have to get the values of \"p\" and \"q\" by using the general solution of a quadratic equation using the following formulas described in the book \"Cryptography Made Simple\" page 303, $p = \\frac{S + \\sqrt{S^2 - 4 \\cdot N}}{2}, q = \\frac{S - \\sqrt{S^2 - 4 \\cdot N}}{2}$, after we obtain the values of \"p\" and \"q\" we can now check if the $p \\cdot q = N$, if the equality is satisfied, then we know that the $d_i$ is the correct value for \"d\" we are looking for."
      ],
      "metadata": {
        "id": "EO0k40Y_vmxZ"
      }
    },
    {
      "cell_type": "code",
      "source": [
        "# Function containing the logic of the winner's attack\n",
        "def wiener_attack(e, n):\n",
        "    continued_fractions_coefficients = continued_fraction_expansion(e, n)\n",
        "    continued_fractions_convergents = convergents_continued_fractions(continued_fractions_coefficients)\n",
        "    for k, d in continued_fractions_convergents:\n",
        "        if(k == 0): # Avoid division by zero\n",
        "            continue\n",
        "        edg = e * d - 1\n",
        "        phi = edg // k\n",
        "\n",
        "        # Get the two roots by using the general solution of a quadratic equation\n",
        "        s = n + 1 - phi\n",
        "        p = (Decimal(s) + Decimal((s**2) - 4 * n).sqrt()) / Decimal(2)\n",
        "        q = (s - Decimal((s**2) - 4 * n).sqrt()) / 2\n",
        "\n",
        "        # Checking correctness\n",
        "        # When N == p * q we have found the correct d\n",
        "        if p * q == N:\n",
        "            return d, phi, p, q"
      ],
      "metadata": {
        "id": "EqvQf_4ykZmX"
      },
      "execution_count": 25,
      "outputs": []
    },
    {
      "cell_type": "markdown",
      "source": [
        "Results of the Wiener's Attack"
      ],
      "metadata": {
        "id": "pXUB7rbTzkFi"
      }
    },
    {
      "cell_type": "code",
      "source": [
        "d, phi, p, q = wiener_attack(e, N)\n",
        "\n",
        "print(\"Value of d: \", d)\n",
        "print(\"Value of phi: \", phi)\n",
        "print(\"Value of p: \", p)\n",
        "print(\"Value of q: \", q)\n",
        "print(\"Value of p*q: \", p*q)"
      ],
      "metadata": {
        "colab": {
          "base_uri": "https://localhost:8080/"
        },
        "id": "jY9EBPA8khlv",
        "outputId": "6a169ecb-09f5-45eb-dcc7-9836dcc5aea1"
      },
      "execution_count": 26,
      "outputs": [
        {
          "output_type": "stream",
          "name": "stdout",
          "text": [
            "Value of d:  13329884791477742620553494809186622521235859099452445414231999041472392302402686736103710652843340293147100831097333279613340600210383048977876617464069129\n",
            "Value of phi:  31572253668946223368340157100721987766746218463736824783505635131921053880398741320644875421329504217933416422336918416263408538952177986508994175591182768950207147336188432455124667514201867376909227788134941323555902495049233601287696456816385455907725032886562051454322468668214625612317109993078620529639419232926990395584905455872993254526660377231090289138975380364480601633585065989511660413634549214566006930303971052158828015025689681827372866771654940553077358719287341114612631683840543406657891152271012641148167057623864102832389400174977751204554704568332779531958411688472768581360113099961766388298240\n",
            "Value of p:  179148023597590015084698205593517397921310341885587475210819413866017961664783121438638611287272861774098215306714614686371181069057221698510839121909994904739413524532323991821028501985648390686106478137276468271255091904618762282339495386604156165402394558944367232727555036974658375316089739240851312483921\n",
            "Value of q:  176235567855692204401254813055131250955160113054335018337461003690593851838630020319266179360502587177316560437717243805900548879309883201929285298612061592922699159549756510726343586462856470465024839507635459966520419493695909111105270009471749830172301925486973256191347257961577975895427165454060790771873\n",
            "Value of p*q:  31572253668946223368340157100721987766746218463736824783505635131921053880398741320644875421329504217933416422336918416263408538952177986508994175591182768950207147336188432455124667514201867376909227788134941323555902495049233601287696456816385455907725032886562051454322468668214625612317109993078620529639774616518443677804391408891641903175536847686030211632523660782037213447088479131269565204282324663517421706048402910651099744974056786727812991192176997050739471403369421617160003772289048267809022469915924569385942569022178774225834165571053657200129401052764120020877313983409004932571630004656678491554033\n"
          ]
        }
      ]
    }
  ]
}