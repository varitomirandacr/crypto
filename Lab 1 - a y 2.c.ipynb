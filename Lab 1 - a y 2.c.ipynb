{
  "cells": [
    {
      "cell_type": "markdown",
      "metadata": {},
      "source": [
        "# Section 1"
      ]
    },
    {
      "cell_type": "code",
      "execution_count": 7,
      "metadata": {
        "colab": {
          "base_uri": "https://localhost:8080/"
        },
        "id": "kvWI_boZ-ogx",
        "outputId": "87dd6bcf-ff8a-4186-88f7-35d335dfce9c"
      },
      "outputs": [
        {
          "name": "stdout",
          "output_type": "stream",
          "text": [
            "The recovered plaintext:  Mr. Utterson the lawyer was a man of a rugged countenance that was never lighted by a smile; cold, scanty and embarrassed in discourse; backward in sentiment; lean, long, dusty, dreary and yet somehow lovable.\n",
            "The decryption key:  102\n"
          ]
        }
      ],
      "source": [
        "import base64\n",
        "import string\n",
        "import numpy as np\n",
        "\n",
        "alphabet = string.ascii_lowercase\n",
        "english_probs = {\"a\":8.55,\"b\":1.6,\"c\":3.16,\"d\":3.87,\"e\":12.1,\"f\":2.18,\"g\":2.09,\"h\":4.96,\"i\":7.33,\"j\":0.22,\"k\":0.81,\"l\":4.21,\"m\":2.53,\"n\":7.17,\"o\":7.47,\"p\":2.07,\"q\":0.1,\"r\":6.33,\"s\":6.73,\"t\":8.94,\"u\":2.68,\"v\":1.06,\"w\":1.86,\"x\":0.19,\"y\":1.72,\"z\":0.11}\n",
        "base64_ciphertext = \"KxRIRjMSEgMUFQkIRhIOA0YKBxEfAxRGEQcVRgdGCwcIRgkARgdGFBMBAQMCRgUJEwgSAwgHCAUDRhIOBxJGEQcVRggDEAMURgoPAQ4SAwJGBB9GB0YVCw8KA11GBQkKAkpGFQUHCBIfRgcIAkYDCwQHFBQHFRUDAkYPCEYCDxUFCRMUFQNdRgQHBQ0RBxQCRg8IRhUDCBIPCwMIEl1GCgMHCEpGCgkIAUpGAhMVEh9KRgIUAwcUH0YHCAJGHwMSRhUJCwMOCRFGCgkQBwQKA0g=\"\n",
        "\n",
        "'''\n",
        "    Gets the probs of each english letter on each \"plain text\"\n",
        "'''\n",
        "def get_text_probs(value):\n",
        "    result = {}\n",
        "    l = len(value.lower().strip())\n",
        "    for i in alphabet:\n",
        "      if i in value:\n",
        "        result[i] = value.count(i)/l \n",
        "      else:\n",
        "        result[i] = 0\n",
        "    return result\n",
        "    \n",
        "'''\n",
        "    Statistical distance formula\n",
        "    sd = 1/2 * sum(|pr(x) - pr(y)|)\n",
        "'''\n",
        "def statistical_distance(text_prob):\n",
        "    result = 0.0\n",
        "    for i in alphabet:\n",
        "      result += abs(english_probs[i]-text_prob[i])\n",
        "    return 1/2*result\n",
        "\n",
        "'''\n",
        "    XOR function\n",
        "'''\n",
        "def to_bytes(var, key):\n",
        "    a = np.frombuffer(var, dtype = np.uint8)\n",
        "    b = np.frombuffer(key, dtype = np.uint8)\n",
        "    return (a^b).tobytes()\n",
        "\n",
        "'''\n",
        "    Get the stadistical distance and text of each number \n",
        "    from 0 to 255 into a dictionary\n",
        "'''    \n",
        "def keys_distance(ct):\n",
        "  distances = {}\n",
        "  for i in range(0,256):\n",
        "    xorted_ct = to_bytes(ct, i.to_bytes(1, 'little'))\n",
        "    plaintext = xorted_ct.decode('UTF-8', errors='ignore')\n",
        "    text_prob = get_text_probs(plaintext)\n",
        "    distances[i] = [statistical_distance(text_prob), plaintext]\n",
        "  return distances\n",
        "\n",
        "'''\n",
        "    Gets the miniumun stadistical distance of all previously calculated\n",
        "'''    \n",
        "def min_distance(keys_distances):\n",
        "  return min(keys_distances, key=keys_distances.get)\n",
        "\n",
        "def show_result_1():\n",
        "  ct_decoded = base64.b64decode(base64_ciphertext)\n",
        "  kd = keys_distance(ct_decoded)\n",
        "  key = min_distance(kd)\n",
        "  print(\"The recovered plaintext: \", kd[key][1])\n",
        "  print(\"The decryption key: \", key)\n",
        "\n",
        "show_result_1()\n"
      ]
    },
    {
      "cell_type": "markdown",
      "metadata": {},
      "source": [
        "# Section 2"
      ]
    },
    {
      "cell_type": "code",
      "execution_count": 15,
      "metadata": {
        "colab": {
          "base_uri": "https://localhost:8080/",
          "height": 282
        },
        "id": "CjPHamv0XFSy",
        "outputId": "35e1c284-7bbb-4893-f2fb-3aaa02bb716a"
      },
      "outputs": [
        {
          "name": "stdout",
          "output_type": "stream",
          "text": [
            "Possible Top 3 Key Lengths: [14, 21, 13]\n"
          ]
        },
        {
          "data": {
            "image/png": "[encoded data removed]",
            "text/plain": [
              "<Figure size 432x288 with 1 Axes>"
            ]
          },
          "metadata": {
            "needs_background": "light"
          },
          "output_type": "display_data"
        }
      ],
      "source": [
        "import base64\n",
        "from heapq import nsmallest\n",
        "import matplotlib.pyplot as plt\n",
        "\n",
        "ciphertext_2 = \"EjxYTxMKdwYaSBwcGTwfCBxHOwsGLRYdGwsBZSw8GhsaCncIEwdDVQM6AQ1OEzwJEWwJFRoBUjIgIFQOFRg+B1QLHRoEJRoHCUchGEUlC1QzBBY2IypTHFIUPgcQRE8XBjoGDgYTdAcQOEUVVAMeKi43VAAUWTsIGgwDGgYxAEkZDiAARToEFxULBmUtPAAcXlk2BRhIAxobPhoHCUcyBxc7BAYQRQYqYTcdHAIWJAAaD08aEnUSSQoSORhFOwoGAA1SMTY8VAsdFTsIBhtPFBoxUwhODzUEA2BFEhsXUiMoNQAWUg0/BgEbDhsQe1MnARB0CQtsBB0GFR03NXMZGgENdwYXCxoFDXUSSRgGJxxFIAoAVAoUZS0yGgteWSQGVAsOGxo6B0kdEzUGAWwXHRMNBmUoPVQOUjo+HQ1PHFUHPRwZHg46D0UoDAcAFxsmNWhUDQcNdw8dBg4ZGCxTCE4FPQ9FOBcVFxFSMiAgVA0dDDABAERPFBoxUxsHADwcRSULVBYEES5hPBJPBhA5EFQlDgcdNB1OHUc2CQYnRQ0VFxZkYRoaHAYYOR0YEUNVNzwHEE4vNQQJbBIVB0UUMC0/VAAUWTYZBAQGFhU7BxpOATsaRSoJDR0LFWUDIRUBBhY5STwBAxkHclMPBxUnHEUtDAYXFxMjNX1UOx1ZEAgQGw0MUyZTAwEeeEgEIQoaExYGZTU7FRtSGyIHFwBPAhUmUyEPFTsEAWwxHBsIAjYuPVhPExd3BhgMTzoGMhIHBx01HAwjC1QYBBZpYSQcAFIONhpUAwEaAztTCBwIIQYBbBEbAwtSJDJzFU8RETYZVB8HGlQ2HBwCA3QMCmwEFhsQBmUgPQ0bGhA5DlQLDhkYPB0OTgE7GkUuFxUdCwFrYRIHTxMXdwgdGh8aBiFTAB1HOgcRbAkVHQFSKjQnVAYcWTZJEAkWWVQdEhsBCzBIAiMRVBYQATxhJB0bGlknCB0MTxQCPBIdARUnSAQiAVQHCh0rYSQVHFIJPgUbHAYbE3USSQ0VNQ4RbBIdAA0dMDVzFQYWQncIGgxPGxshUwYACy1IJz4EGgAKHGUJOhgDAVkxBhgDHFlUNwYdTgg4DEUtEx0VER03Mn9UHBMOdwAaSCcUBjofDUJHNUhHLgwGEEgfJC9xVAAUWTkGVBsCFBg5UwgMDjgBETVLVDULFmUyPFQbGxcuSTkJHRwVO1QaTkUiARYlChpWRQUkMnMVTxQYNB1PSAUAByFTCB1HdgoMK0UTHRceZ2EfAQwLXiRJLgcATlQ0HQ1CRzUbRTsMABxFEyktcxYGFVkUAAARTxQSMxIAHBR4SAQiRT0aBAciNCEVGxsWOUkHAAAAGDFTGhoGJhxFJRFUGwMUa2EdGxheWTgHVAkDGVQmBgoGRzUOAy0MBgdFCyo0cxUDBRguGlQOBhsQdRJJTBE9Gww4CgZUChRlKTwaAABbbEkVBgtVGztTHQYOJ0gCPgQaEEUWJDhzMw4WCjUQVAsAABgxHU4aRyAADCIOVBsDUiQvKhYAFgB3DxsaTwEcNAdJBwokBxc4BBoARQIqMidUDQcNdyQVGgYUGntTKAADeEgEP0UdAEUFKjQ/EE8dGjQcBkgGG1QUBg4bFCBERS0LDVQBEzxhJBsaHh13DRtETxQHdQcBDxN0ARZsBFQHBhoqLj9UGRMaNh0dBwFVGTodHQZJ\"\n",
        "\n",
        "\n",
        "\"\"\"\n",
        "    2.a\n",
        "\"\"\"\n",
        "def split_text(text, n):\n",
        "  return [text[i:i + n] for i in range(0, len(text), n)]\n",
        "\n",
        "def split_bytes(data, n):\n",
        "  ct_decoded = base64.b64decode(data)\n",
        "  chunks = split_text(ct_decoded, n)\n",
        "  if len(chunks[0]) != len(chunks[-1]):\n",
        "    chunks.pop()\n",
        "  return chunks\n",
        "\n",
        "\"\"\"\n",
        "    2.b\n",
        "\"\"\"\n",
        "def hamming_distance(a, b):\n",
        "  hd = 0\n",
        "  for b1,b2 in zip(a,b):\n",
        "    hd += bin(b1^b2).count('1')\n",
        "  return hd\n",
        "\n",
        "\n",
        "\"\"\"\n",
        "    2.c\n",
        "\"\"\"\n",
        "def most_likely_key_length(text):\n",
        "  hd_scores_map = {}\n",
        "  for keySize in range (2,51):\n",
        "    distances = []\n",
        "    chunks = split_bytes(text,keySize)\n",
        "    for a in chunks:\n",
        "      for b in chunks:\n",
        "        hd_normalized = hamming_distance(a,b) / keySize\n",
        "        if hd_normalized > 0:\n",
        "          distances.append(hd_normalized)\n",
        "    if len(distances) > 0:\n",
        "      score = sum(distances) / len(distances)\n",
        "      hd_scores_map[keySize] = score\n",
        "  return hd_scores_map\n",
        "\n",
        "def most_top_n(scores_map, n):\n",
        "  return nsmallest(n, scores_map, key=scores_map.get)\n",
        "\n",
        "def show_result_2(text, top_n):\n",
        "  scores_map = most_likely_key_length(text)\n",
        "  possible_keys_length = most_top_n(scores_map, top_n)\n",
        "  print(f'Possible Top 3 Key Lengths: {possible_keys_length}')\n",
        "  #[print(f'Key: {k} - Score: {s}') for k,s in possible_keys_length.items()]\n",
        "  plt.plot(*zip(*scores_map.items()))\n",
        "  plt.show()\n",
        "\n",
        "\"\"\"\n",
        "  Testing values:\n",
        "\n",
        "  Test #1\n",
        "  p = alvaro is mad at me\n",
        "  k = tim\n",
        "  c = FQUbFRsCVAAeVAQMEEkMAEkAEQ==\n",
        "  result = [3, 6, 2]\n",
        "\n",
        "  Test #2\n",
        "  p = juan jose araya castro tony venegas and alvaro are trying to solver exercise two point d\n",
        "  k = cryptography is simple\n",
        "  c = CQcYHlQFCAEEUAkLQRASABAIHgQeCkMGFh4NTxEXDxUPGFNJEk4XSQwcGgQRHVkRBgpHBhMJARdHSQdPUxoCHBoAEVIcCBEdBBsSFUgNVwZTUBwAAwRMAQ==\n",
        "  result = [22, 39, 24]\n",
        "\n",
        "  Test #3\n",
        "  p = We spent like 16 hours maybe more solving the point 2.c\n",
        "  k = tony is eating\n",
        "  c = IwpOClAMHVRFDR0CC0dFWU4RTxwBU0UMFRAMAlQCAQtFSQBPCRcdBwlHAAcLWVAGGk4RQUZHDQ==\n",
        "  result = [14, 21, 13]\n",
        "\n",
        "\"\"\"\n",
        "\n",
        "\n",
        "show_result_2(ciphertext_2, top_n=3)\n",
        "\n",
        "\n",
        "\n"
      ]
    },
    {
      "cell_type": "markdown",
      "metadata": {},
      "source": [
        "# Section 3"
      ]
    }
  ],
  "metadata": {
    "colab": {
      "collapsed_sections": [],
      "name": "Untitled3.ipynb",
      "provenance": []
    },
    "kernelspec": {
      "display_name": "Python 3.10.4 64-bit",
      "language": "python",
      "name": "python3"
    },
    "language_info": {
      "codemirror_mode": {
        "name": "ipython",
        "version": 3
      },
      "file_extension": ".py",
      "mimetype": "text/x-python",
      "name": "python",
      "nbconvert_exporter": "python",
      "pygments_lexer": "ipython3",
      "version": "3.10.4"
    },
    "vscode": {
      "interpreter": {
        "hash": "92027e2c1da3bcebf34b84774ed38599ef17aa35363e249514df9920c133b09b"
      }
    }
  },
  "nbformat": 4,
  "nbformat_minor": 0
}
